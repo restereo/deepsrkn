{
 "cells": [
  {
   "cell_type": "code",
   "execution_count": 4,
   "metadata": {
    "collapsed": false
   },
   "outputs": [
    {
     "ename": "AttributeError",
     "evalue": "'module' object has no attribute 'tests'",
     "output_type": "error",
     "traceback": [
      "\u001b[0;31m---------------------------------------------------------------------------\u001b[0m",
      "\u001b[0;31mAttributeError\u001b[0m                            Traceback (most recent call last)",
      "\u001b[0;32m<ipython-input-4-bced8ef4b2ae>\u001b[0m in \u001b[0;36m<module>\u001b[0;34m()\u001b[0m\n\u001b[1;32m      5\u001b[0m \u001b[0;32mimport\u001b[0m \u001b[0mre\u001b[0m\u001b[0;34m\u001b[0m\u001b[0m\n\u001b[1;32m      6\u001b[0m \u001b[0;34m\u001b[0m\u001b[0m\n\u001b[0;32m----> 7\u001b[0;31m \u001b[0;32mfrom\u001b[0m \u001b[0mkeras\u001b[0m\u001b[0;34m.\u001b[0m\u001b[0mmodels\u001b[0m \u001b[0;32mimport\u001b[0m \u001b[0mSequential\u001b[0m\u001b[0;34m\u001b[0m\u001b[0m\n\u001b[0m\u001b[1;32m      8\u001b[0m \u001b[0;32mfrom\u001b[0m \u001b[0mkeras\u001b[0m\u001b[0;34m.\u001b[0m\u001b[0mlayers\u001b[0m\u001b[0;34m.\u001b[0m\u001b[0mcore\u001b[0m \u001b[0;32mimport\u001b[0m \u001b[0mDense\u001b[0m\u001b[0;34m,\u001b[0m \u001b[0mActivation\u001b[0m\u001b[0;34m,\u001b[0m \u001b[0mDropout\u001b[0m\u001b[0;34m\u001b[0m\u001b[0m\n\u001b[1;32m      9\u001b[0m \u001b[0;32mfrom\u001b[0m \u001b[0mkeras\u001b[0m\u001b[0;34m.\u001b[0m\u001b[0mlayers\u001b[0m\u001b[0;34m.\u001b[0m\u001b[0mrecurrent\u001b[0m \u001b[0;32mimport\u001b[0m \u001b[0mLSTM\u001b[0m\u001b[0;34m\u001b[0m\u001b[0m\n",
      "\u001b[0;32m/Users/restereo/keras/keras/models.py\u001b[0m in \u001b[0;36m<module>\u001b[0;34m()\u001b[0m\n\u001b[1;32m      1\u001b[0m \u001b[0;32mfrom\u001b[0m \u001b[0m__future__\u001b[0m \u001b[0;32mimport\u001b[0m \u001b[0mabsolute_import\u001b[0m\u001b[0;34m\u001b[0m\u001b[0m\n\u001b[1;32m      2\u001b[0m \u001b[0;32mfrom\u001b[0m \u001b[0m__future__\u001b[0m \u001b[0;32mimport\u001b[0m \u001b[0mprint_function\u001b[0m\u001b[0;34m\u001b[0m\u001b[0m\n\u001b[0;32m----> 3\u001b[0;31m \u001b[0;32mimport\u001b[0m \u001b[0mtheano\u001b[0m\u001b[0;34m\u001b[0m\u001b[0m\n\u001b[0m\u001b[1;32m      4\u001b[0m \u001b[0;32mimport\u001b[0m \u001b[0mtheano\u001b[0m\u001b[0;34m.\u001b[0m\u001b[0mtensor\u001b[0m \u001b[0;32mas\u001b[0m \u001b[0mT\u001b[0m\u001b[0;34m\u001b[0m\u001b[0m\n\u001b[1;32m      5\u001b[0m \u001b[0;32mimport\u001b[0m \u001b[0mnumpy\u001b[0m \u001b[0;32mas\u001b[0m \u001b[0mnp\u001b[0m\u001b[0;34m\u001b[0m\u001b[0m\n",
      "\u001b[0;32m/Users/restereo/anaconda/lib/python2.7/site-packages/theano/__init__.pyc\u001b[0m in \u001b[0;36m<module>\u001b[0;34m()\u001b[0m\n\u001b[1;32m     93\u001b[0m \u001b[0;31m# needed during that phase.\u001b[0m\u001b[0;34m\u001b[0m\u001b[0;34m\u001b[0m\u001b[0m\n\u001b[1;32m     94\u001b[0m \u001b[0;32mimport\u001b[0m \u001b[0mtheano\u001b[0m\u001b[0;34m.\u001b[0m\u001b[0mtests\u001b[0m\u001b[0;34m\u001b[0m\u001b[0m\n\u001b[0;32m---> 95\u001b[0;31m \u001b[0;32mif\u001b[0m \u001b[0mhasattr\u001b[0m\u001b[0;34m(\u001b[0m\u001b[0mtheano\u001b[0m\u001b[0;34m.\u001b[0m\u001b[0mtests\u001b[0m\u001b[0;34m,\u001b[0m \u001b[0;34m\"TheanoNoseTester\"\u001b[0m\u001b[0;34m)\u001b[0m\u001b[0;34m:\u001b[0m\u001b[0;34m\u001b[0m\u001b[0m\n\u001b[0m\u001b[1;32m     96\u001b[0m     \u001b[0mtest\u001b[0m \u001b[0;34m=\u001b[0m \u001b[0mtheano\u001b[0m\u001b[0;34m.\u001b[0m\u001b[0mtests\u001b[0m\u001b[0;34m.\u001b[0m\u001b[0mTheanoNoseTester\u001b[0m\u001b[0;34m(\u001b[0m\u001b[0;34m)\u001b[0m\u001b[0;34m.\u001b[0m\u001b[0mtest\u001b[0m\u001b[0;34m\u001b[0m\u001b[0m\n\u001b[1;32m     97\u001b[0m \u001b[0;32melse\u001b[0m\u001b[0;34m:\u001b[0m\u001b[0;34m\u001b[0m\u001b[0m\n",
      "\u001b[0;31mAttributeError\u001b[0m: 'module' object has no attribute 'tests'"
     ]
    }
   ],
   "source": [
    "import numpy as np\n",
    "import pandas as pd\n",
    "import random\n",
    "import sys\n",
    "import re\n",
    "\n",
    "from keras.models import Sequential\n",
    "from keras.layers.core import Dense, Activation, Dropout\n",
    "from keras.layers.recurrent import LSTM\n",
    "from keras.datasets.data_utils import get_file\n"
   ]
  },
  {
   "cell_type": "code",
   "execution_count": 11,
   "metadata": {
    "collapsed": false
   },
   "outputs": [
    {
     "name": "stdout",
     "output_type": "stream",
     "text": [
      "('corpus length:', 2243988)\n",
      "('total chars:', 120)\n"
     ]
    },
    {
     "data": {
      "text/plain": [
       "{'\\n': 55660,\n",
       " ' ': 176315,\n",
       " '!': 3216,\n",
       " '\"': 1882,\n",
       " \"'\": 252,\n",
       " '(': 389,\n",
       " ')': 408,\n",
       " '*': 1015,\n",
       " ',': 27301,\n",
       " '-': 4068,\n",
       " '/': 6,\n",
       " '0': 66,\n",
       " '1': 276,\n",
       " '2': 142,\n",
       " '3': 98,\n",
       " '4': 48,\n",
       " '5': 46,\n",
       " '6': 38,\n",
       " '7': 48,\n",
       " '8': 110,\n",
       " '9': 36,\n",
       " ':': 2283,\n",
       " ';': 3863,\n",
       " '<': 47,\n",
       " '>': 58,\n",
       " '?': 2408,\n",
       " '@': 2,\n",
       " 'a': 1463,\n",
       " 'b': 192,\n",
       " 'c': 470,\n",
       " 'd': 559,\n",
       " 'e': 2671,\n",
       " 'f': 178,\n",
       " 'g': 179,\n",
       " 'h': 206,\n",
       " 'i': 2151,\n",
       " 'j': 127,\n",
       " 'k': 17,\n",
       " 'l': 1001,\n",
       " 'm': 523,\n",
       " 'n': 1140,\n",
       " 'o': 951,\n",
       " 'p': 433,\n",
       " 'q': 197,\n",
       " 'r': 1037,\n",
       " 's': 1237,\n",
       " 't': 1178,\n",
       " 'u': 1016,\n",
       " 'v': 591,\n",
       " 'w': 21,\n",
       " 'x': 797,\n",
       " 'y': 69,\n",
       " 'z': 57,\n",
       " '{': 149,\n",
       " '}': 149,\n",
       " '\\x80': 43979,\n",
       " '\\x81': 46047,\n",
       " '\\x82': 52627,\n",
       " '\\x83': 28766,\n",
       " '\\x84': 710,\n",
       " '\\x85': 9600,\n",
       " '\\x86': 4521,\n",
       " '\\x87': 11512,\n",
       " '\\x88': 8105,\n",
       " '\\x89': 2262,\n",
       " '\\x8a': 266,\n",
       " '\\x8b': 22866,\n",
       " '\\x8c': 20560,\n",
       " '\\x8d': 713,\n",
       " '\\x8e': 7932,\n",
       " '\\x8f': 18422,\n",
       " '\\x90': 2131,\n",
       " '\\x91': 1654,\n",
       " '\\x92': 5163,\n",
       " '\\x93': 1625,\n",
       " '\\x94': 2399,\n",
       " '\\x95': 1557,\n",
       " '\\x96': 331,\n",
       " '\\x97': 1501,\n",
       " '\\x98': 6212,\n",
       " '\\x99': 86,\n",
       " '\\x9a': 3586,\n",
       " '\\x9b': 1377,\n",
       " '\\x9c': 2466,\n",
       " '\\x9d': 5446,\n",
       " '\\x9e': 3909,\n",
       " '\\x9f': 4613,\n",
       " '\\xa0': 1369,\n",
       " '\\xa1': 4418,\n",
       " '\\xa2': 3145,\n",
       " '\\xa3': 1564,\n",
       " '\\xa4': 305,\n",
       " '\\xa5': 487,\n",
       " '\\xa6': 325,\n",
       " '\\xa7': 1354,\n",
       " '\\xa8': 279,\n",
       " '\\xa9': 46,\n",
       " '\\xab': 114,\n",
       " '\\xac': 156,\n",
       " '\\xad': 210,\n",
       " '\\xae': 73,\n",
       " '\\xaf': 1268,\n",
       " '\\xb0': 71039,\n",
       " '\\xb1': 16974,\n",
       " '\\xb2': 40213,\n",
       " '\\xb3': 16921,\n",
       " '\\xb4': 31627,\n",
       " '\\xb5': 81584,\n",
       " '\\xb6': 10520,\n",
       " '\\xb7': 15210,\n",
       " '\\xb8': 54483,\n",
       " '\\xb9': 20539,\n",
       " '\\xba': 25979,\n",
       " '\\xbb': 44878,\n",
       " '\\xbc': 30924,\n",
       " '\\xbd': 61126,\n",
       " '\\xbe': 91658,\n",
       " '\\xbf': 20842,\n",
       " '\\xd0': 693686,\n",
       " '\\xd1': 278888}"
      ]
     },
     "execution_count": 11,
     "metadata": {},
     "output_type": "execute_result"
    }
   ],
   "source": [
    "\n",
    "path = 'pushkin_poetry.txt' # get_file('nietzsche.txt', origin=\"https://s3.amazonaws.com/text-datasets/nietzsche.txt\")\n",
    "text = open(path).read().lower()\n",
    "\n",
    "\n",
    "print('corpus length:', len(text))\n",
    "\n",
    "chars = set(text)\n",
    "\n",
    "print('total chars:', len(chars))\n",
    "# _c = list(chars)\n",
    "\n",
    "# _c = [c for c in _c if not regex.search(_c)]\n",
    "\n",
    "_counter = {}\n",
    "for _c in text:\n",
    "\n",
    "    if _c in _counter:\n",
    "        _counter[_c] = _counter[_c] + 1\n",
    "    else:\n",
    "        _counter[_c] = 1\n",
    "\n",
    "_counter"
   ]
  },
  {
   "cell_type": "code",
   "execution_count": null,
   "metadata": {
    "collapsed": true
   },
   "outputs": [],
   "source": []
  }
 ],
 "metadata": {
  "kernelspec": {
   "display_name": "Python 2",
   "language": "python",
   "name": "python2"
  },
  "language_info": {
   "codemirror_mode": {
    "name": "ipython",
    "version": 2
   },
   "file_extension": ".py",
   "mimetype": "text/x-python",
   "name": "python",
   "nbconvert_exporter": "python",
   "pygments_lexer": "ipython2",
   "version": "2.7.10"
  }
 },
 "nbformat": 4,
 "nbformat_minor": 0
}
